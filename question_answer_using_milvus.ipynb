{
 "cells": [
  {
   "cell_type": "code",
   "execution_count": 1,
   "id": "7bc9fdf6-2802-4d2b-8a6b-6757fde0b140",
   "metadata": {},
   "outputs": [],
   "source": [
    "import time\n",
    "import numpy as np\n",
    "import pandas as pd\n",
    "from pymilvus import connections, utility, FieldSchema, CollectionSchema, DataType, Collection)"
   ]
  },
  {
   "cell_type": "code",
   "execution_count": 2,
   "id": "5243cb09-9911-442a-835f-303e062287c1",
   "metadata": {},
   "outputs": [],
   "source": [
    "fmt = \"\\n=== {:30} ===\\n\"\n",
    "search_latency_fmt = \"search latency = {:.4f}s\""
   ]
  },
  {
   "cell_type": "markdown",
   "id": "07a01bda-379d-49ca-b90d-05488069d852",
   "metadata": {},
   "source": [
    "**Milvus Connection**"
   ]
  },
  {
   "cell_type": "code",
   "execution_count": 1,
   "id": "3c74fa91-d455-46c9-b5e4-a114e179d3ae",
   "metadata": {},
   "outputs": [],
   "source": [
    "connections.connect(\"default\", host=\"dev_gpu\", port=\"19530\")\n",
    "print(fmt.format(\"connected to Milvus\"))"
   ]
  },
  {
   "cell_type": "code",
   "execution_count": 4,
   "id": "bdad49ee-c2d6-4aba-ab73-aea0ed7ea091",
   "metadata": {},
   "outputs": [
    {
     "name": "stdout",
     "output_type": "stream",
     "text": [
      "Does collection paraphrase_milvus exist in Milvus: False\n"
     ]
    }
   ],
   "source": [
    "has = utility.has_collection(\"paraphrase_milvus\")\n",
    "print(f\"Does collection paraphrase_milvus exist in Milvus: {has}\")"
   ]
  },
  {
   "cell_type": "code",
   "execution_count": 5,
   "id": "e0f72f13-9fa3-4f39-8b29-768bd0001819",
   "metadata": {},
   "outputs": [
    {
     "data": {
      "text/html": [
       "<div>\n",
       "<style scoped>\n",
       "    .dataframe tbody tr th:only-of-type {\n",
       "        vertical-align: middle;\n",
       "    }\n",
       "\n",
       "    .dataframe tbody tr th {\n",
       "        vertical-align: top;\n",
       "    }\n",
       "\n",
       "    .dataframe thead th {\n",
       "        text-align: right;\n",
       "    }\n",
       "</style>\n",
       "<table border=\"1\" class=\"dataframe\">\n",
       "  <thead>\n",
       "    <tr style=\"text-align: right;\">\n",
       "      <th></th>\n",
       "      <th>id</th>\n",
       "      <th>question</th>\n",
       "      <th>answer</th>\n",
       "    </tr>\n",
       "  </thead>\n",
       "  <tbody>\n",
       "    <tr>\n",
       "      <th>0</th>\n",
       "      <td>0</td>\n",
       "      <td>Is  Disability  Insurance  Required  By  Law?</td>\n",
       "      <td>Not generally. There are five states that requ...</td>\n",
       "    </tr>\n",
       "    <tr>\n",
       "      <th>1</th>\n",
       "      <td>1</td>\n",
       "      <td>Can  Creditors  Take  Life  Insurance  After  ...</td>\n",
       "      <td>If the person who passed away was the one with...</td>\n",
       "    </tr>\n",
       "    <tr>\n",
       "      <th>2</th>\n",
       "      <td>2</td>\n",
       "      <td>Does  Travelers  Insurance  Have  Renters  Ins...</td>\n",
       "      <td>One of the insurance carriers I represent is T...</td>\n",
       "    </tr>\n",
       "  </tbody>\n",
       "</table>\n",
       "</div>"
      ],
      "text/plain": [
       "   id                                           question  \\\n",
       "0   0      Is  Disability  Insurance  Required  By  Law?   \n",
       "1   1  Can  Creditors  Take  Life  Insurance  After  ...   \n",
       "2   2  Does  Travelers  Insurance  Have  Renters  Ins...   \n",
       "\n",
       "                                              answer  \n",
       "0  Not generally. There are five states that requ...  \n",
       "1  If the person who passed away was the one with...  \n",
       "2  One of the insurance carriers I represent is T...  "
      ]
     },
     "execution_count": 5,
     "metadata": {},
     "output_type": "execute_result"
    }
   ],
   "source": [
    "data = pd.read_csv(\"data/question_answer.csv\")\n",
    "data.head(3)"
   ]
  },
  {
   "cell_type": "code",
   "execution_count": 6,
   "id": "0a65ed6e-fe19-4411-9991-8f5b18ba7236",
   "metadata": {},
   "outputs": [
    {
     "data": {
      "text/plain": [
       "(1000, 3)"
      ]
     },
     "execution_count": 6,
     "metadata": {},
     "output_type": "execute_result"
    }
   ],
   "source": [
    "data.shape"
   ]
  },
  {
   "cell_type": "markdown",
   "id": "351da534-d7a9-42fd-bff6-a8994fdcd623",
   "metadata": {},
   "source": [
    "**Create collection**"
   ]
  },
  {
   "cell_type": "code",
   "execution_count": 7,
   "id": "85487533-0329-4615-8ad4-25ef291c1b0d",
   "metadata": {},
   "outputs": [
    {
     "name": "stdout",
     "output_type": "stream",
     "text": [
      "Collection is created\n"
     ]
    }
   ],
   "source": [
    "dim=768\n",
    "\n",
    "fields = [FieldSchema(name='id', dtype=DataType.INT64, descrition='ids', max_length=1000, is_primary=True, auto_id=False),\n",
    "          FieldSchema(name='embedding', dtype=DataType.FLOAT_VECTOR, descrition='embedding vectors', dim=dim),\n",
    "          FieldSchema(name=\"q_text\", dtype=DataType.VARCHAR, description=\"question data\", max_length=5000),\n",
    "          FieldSchema(name=\"a_text\", dtype=DataType.VARCHAR, description=\"answer data\", max_length=5000)\n",
    "         ]\n",
    "\n",
    "schema = CollectionSchema(fields=fields, description='get the answer')\n",
    "paraphrase_milvus = Collection(name=\"question_answer\", schema=schema)\n",
    "\n",
    "print(\"Collection is created\")"
   ]
  },
  {
   "cell_type": "code",
   "execution_count": null,
   "id": "dc908460-c466-4290-95e4-d141ed828705",
   "metadata": {},
   "outputs": [],
   "source": []
  },
  {
   "cell_type": "markdown",
   "id": "e95bcb7c-f92c-4ee8-a07f-208a7381ecbb",
   "metadata": {},
   "source": [
    "**Embeddings**"
   ]
  },
  {
   "cell_type": "code",
   "execution_count": 8,
   "id": "e78e553a-5a5c-479c-bacb-b5fbc61972af",
   "metadata": {},
   "outputs": [],
   "source": [
    "model_path = \"./paraphrase-multilingual-mpnet-base-v2/\"\n",
    "from sentence_transformers import SentenceTransformer\n",
    "\n",
    "model = SentenceTransformer(model_path, device=\"cpu\")"
   ]
  },
  {
   "cell_type": "code",
   "execution_count": 9,
   "id": "6dff45af-8308-4238-a9c0-bc3748da95c5",
   "metadata": {},
   "outputs": [
    {
     "name": "stdout",
     "output_type": "stream",
     "text": [
      "(800, 768)\n"
     ]
    }
   ],
   "source": [
    "question = np.array(data[\"question\"])[:800]\n",
    "embeddings = model.encode(question)\n",
    "\n",
    "print(embeddings.shape)"
   ]
  },
  {
   "cell_type": "code",
   "execution_count": 9,
   "id": "daec72b7-30b8-4b8d-a175-98e99822b35f",
   "metadata": {},
   "outputs": [],
   "source": [
    "# collection.describe()"
   ]
  },
  {
   "cell_type": "code",
   "execution_count": 10,
   "id": "21a22a3a-9d96-4c69-9e36-f9460a43d8df",
   "metadata": {},
   "outputs": [],
   "source": [
    "ids = np.array(data[\"id\"])[:800]\n",
    "question_data = np.array(data[\"question\"])[:800]\n",
    "answer_data = np.array(data[\"answer\"])[:800]\n",
    "\n",
    "entities = [ids, embeddings.tolist(), question_data.tolist(), answer_data.tolist()]"
   ]
  },
  {
   "cell_type": "code",
   "execution_count": 12,
   "id": "47e81611-f240-46ef-b17d-ed1a04271cb4",
   "metadata": {},
   "outputs": [],
   "source": []
  },
  {
   "cell_type": "code",
   "execution_count": 11,
   "id": "a1705820-fc7e-4e18-a84a-13e271afc460",
   "metadata": {},
   "outputs": [
    {
     "data": {
      "text/html": [
       "<div>\n",
       "<style scoped>\n",
       "    .dataframe tbody tr th:only-of-type {\n",
       "        vertical-align: middle;\n",
       "    }\n",
       "\n",
       "    .dataframe tbody tr th {\n",
       "        vertical-align: top;\n",
       "    }\n",
       "\n",
       "    .dataframe thead th {\n",
       "        text-align: right;\n",
       "    }\n",
       "</style>\n",
       "<table border=\"1\" class=\"dataframe\">\n",
       "  <thead>\n",
       "    <tr style=\"text-align: right;\">\n",
       "      <th></th>\n",
       "      <th>ids</th>\n",
       "      <th>embeddings</th>\n",
       "      <th>q_text</th>\n",
       "      <th>a_text</th>\n",
       "    </tr>\n",
       "  </thead>\n",
       "  <tbody>\n",
       "    <tr>\n",
       "      <th>0</th>\n",
       "      <td>0</td>\n",
       "      <td>[-0.042642127722501755, 0.24229967594146729, -...</td>\n",
       "      <td>Is  Disability  Insurance  Required  By  Law?</td>\n",
       "      <td>Not generally. There are five states that requ...</td>\n",
       "    </tr>\n",
       "    <tr>\n",
       "      <th>1</th>\n",
       "      <td>1</td>\n",
       "      <td>[0.011983036063611507, 0.27371856570243835, -0...</td>\n",
       "      <td>Can  Creditors  Take  Life  Insurance  After  ...</td>\n",
       "      <td>If the person who passed away was the one with...</td>\n",
       "    </tr>\n",
       "    <tr>\n",
       "      <th>2</th>\n",
       "      <td>2</td>\n",
       "      <td>[-0.05496260151267052, 0.2613506615161896, -0....</td>\n",
       "      <td>Does  Travelers  Insurance  Have  Renters  Ins...</td>\n",
       "      <td>One of the insurance carriers I represent is T...</td>\n",
       "    </tr>\n",
       "  </tbody>\n",
       "</table>\n",
       "</div>"
      ],
      "text/plain": [
       "   ids                                         embeddings  \\\n",
       "0    0  [-0.042642127722501755, 0.24229967594146729, -...   \n",
       "1    1  [0.011983036063611507, 0.27371856570243835, -0...   \n",
       "2    2  [-0.05496260151267052, 0.2613506615161896, -0....   \n",
       "\n",
       "                                              q_text  \\\n",
       "0      Is  Disability  Insurance  Required  By  Law?   \n",
       "1  Can  Creditors  Take  Life  Insurance  After  ...   \n",
       "2  Does  Travelers  Insurance  Have  Renters  Ins...   \n",
       "\n",
       "                                              a_text  \n",
       "0  Not generally. There are five states that requ...  \n",
       "1  If the person who passed away was the one with...  \n",
       "2  One of the insurance carriers I represent is T...  "
      ]
     },
     "execution_count": 11,
     "metadata": {},
     "output_type": "execute_result"
    }
   ],
   "source": [
    "df = pd.DataFrame({'ids': entities[0],\n",
    "                   'embeddings': entities[1],\n",
    "                   'q_text': entities[2],\n",
    "                  \"a_text\":entities[3]})\n",
    "df.head(3)"
   ]
  },
  {
   "cell_type": "code",
   "execution_count": 12,
   "id": "fb1f84b0-9e01-4048-875c-8def26185e25",
   "metadata": {},
   "outputs": [
    {
     "data": {
      "text/plain": [
       "(800, 4)"
      ]
     },
     "execution_count": 12,
     "metadata": {},
     "output_type": "execute_result"
    }
   ],
   "source": [
    "df.shape"
   ]
  },
  {
   "cell_type": "code",
   "execution_count": 13,
   "id": "f2c06326-a48e-4993-8580-9b3d963740bc",
   "metadata": {},
   "outputs": [
    {
     "name": "stdout",
     "output_type": "stream",
     "text": [
      "Data is inserted into Collection\n"
     ]
    }
   ],
   "source": [
    "insert_result = paraphrase_milvus.insert(entities)\n",
    "\n",
    "paraphrase_milvus.flush()\n",
    "print(\"Data is inserted into Collection\")  # check the num_entities"
   ]
  },
  {
   "cell_type": "markdown",
   "id": "594b62de-49f4-4762-b5ea-1d5ad7ed6f29",
   "metadata": {},
   "source": [
    "**Create Index**"
   ]
  },
  {
   "cell_type": "code",
   "execution_count": 14,
   "id": "268abb0f-2161-4b08-9192-f85f9c694638",
   "metadata": {},
   "outputs": [
    {
     "name": "stdout",
     "output_type": "stream",
     "text": [
      "Index is created\n"
     ]
    }
   ],
   "source": [
    "index = {\"index_type\": \"IVF_FLAT\",\"metric_type\": \"L2\",\"params\": {\"nlist\": 128},}\n",
    "\n",
    "paraphrase_milvus.create_index(\"embedding\", index)\n",
    "\n",
    "print(\"Index is created\")"
   ]
  },
  {
   "cell_type": "code",
   "execution_count": 15,
   "id": "58ad6e56-04df-4d1b-8ee0-fce70f2a0af2",
   "metadata": {},
   "outputs": [
    {
     "name": "stdout",
     "output_type": "stream",
     "text": [
      "\n",
      "=== Start loading                  ===\n",
      "\n"
     ]
    }
   ],
   "source": [
    "print(fmt.format(\"Start loading\"))\n",
    "paraphrase_milvus.load()"
   ]
  },
  {
   "cell_type": "markdown",
   "id": "0df16563-c989-4d2d-a1d3-704f25d73186",
   "metadata": {},
   "source": [
    "**Search**"
   ]
  },
  {
   "cell_type": "code",
   "execution_count": 16,
   "id": "cd2fa5ce-806e-46a3-8b0a-d8d3765ece9f",
   "metadata": {},
   "outputs": [
    {
     "name": "stdout",
     "output_type": "stream",
     "text": [
      "\n",
      "=== Start searching based on vector similarity ===\n",
      "\n"
     ]
    }
   ],
   "source": [
    "print(fmt.format(\"Start searching based on vector similarity\"))"
   ]
  },
  {
   "cell_type": "code",
   "execution_count": 17,
   "id": "eeaa6df4-f9d8-4333-938f-4d1baab6d87c",
   "metadata": {},
   "outputs": [
    {
     "name": "stdout",
     "output_type": "stream",
     "text": [
      "test data : Is  Car  Insurance  Federal  Law?\n",
      "(768,) float32 <class 'numpy.ndarray'>\n"
     ]
    }
   ],
   "source": [
    "test_question = np.array(data[\"question\"])[950]\n",
    "print(\"test data :\", test_question)\n",
    "\n",
    "test_emb = model.encode(test_question)\n",
    "print(test_emb.shape, test_emb.dtype, type(test_emb))"
   ]
  },
  {
   "cell_type": "code",
   "execution_count": 18,
   "id": "a52c269f-a6cc-4a04-acfa-22c0bd654016",
   "metadata": {},
   "outputs": [],
   "source": [
    "search_params = {\"metric_type\": \"L2\",\"params\": {\"nprobe\": 10},}\n",
    "# search_params={\"metric_type\": \"IP\", \"params\": {}}"
   ]
  },
  {
   "cell_type": "code",
   "execution_count": 19,
   "id": "307c4aeb-c7a8-43cf-bbd1-4be5b9a27cc4",
   "metadata": {},
   "outputs": [
    {
     "name": "stdout",
     "output_type": "stream",
     "text": [
      "hit: (distance: 2.2892966270446777, id: 132), \n",
      " question text is : Is  Auto  Insurance  A  Federal  Requirement?, \n",
      " answer text is : Auto Insurance is not a requirement mandated by Federal law, but instead is required by most if not all states as a condition of registering a car for use on public access roads and highways. Property and Casualty insurance, including car insurance is regulated by state authority as opposed to the Federal Government. \n",
      " \n",
      "hit: (distance: 3.5432300567626953, id: 364), \n",
      " question text is : What  Auto  Insurance  Is  Required  By  Law?, \n",
      " answer text is : If you live in a state that requires auto insurance typically the coverages that would be required are bodily injury, property damage, and uninsured motorist at minimum. Regulations are different from state to state. The amounts and types of coverage can vary greatly. Contact a local agent to know what the coverage requirements are for the state that you reside in. \n",
      " \n",
      "hit: (distance: 4.268867492675781, id: 723), \n",
      " question text is : Is  An  Auto  Insurance  Settlement  Taxable?, \n",
      " answer text is : It can be a bit confusing, but Medigap plans are utilized for persons that are covered under traditional Medicare. You purchase a policy from an insurance company such as Blue Cross, Humana or UnitedHealthcare (although there are plenty of other insurers to choose from). Medicare Advantage is a private health plan that is offered as an alternative to the more-traditional Medicare coverage. Often an HMO or PPO, you may see additional benefits included. An independent broker and/or a reputable website is a great place to view options from multiple companies. You can often instantly compare plans and easily apply online. \n",
      " \n",
      "search latency = 0.0080s\n"
     ]
    }
   ],
   "source": [
    "start_time = time.time()\n",
    "\n",
    "result = paraphrase_milvus.search(data=test_emb.reshape(1,-1), anns_field=\"embedding\", \n",
    "                                  param=search_params, limit=3, output_fields=[\"q_text\", \"a_text\"])\n",
    "\n",
    "\n",
    "end_time = time.time()\n",
    "\n",
    "for hits in result:\n",
    "    for hit in hits:\n",
    "        print(f\"hit: {hit}, \\n question text is : {hit.entity.get('q_text')}, \\n answer text is : {hit.entity.get('a_text')} \\n \")\n",
    "print(search_latency_fmt.format(end_time - start_time))"
   ]
  },
  {
   "cell_type": "code",
   "execution_count": null,
   "id": "b310a87a-1791-4aed-8b33-0fdc6c218150",
   "metadata": {},
   "outputs": [],
   "source": []
  },
  {
   "cell_type": "code",
   "execution_count": 20,
   "id": "d3e74604-5be1-4903-aed4-f71572464375",
   "metadata": {},
   "outputs": [],
   "source": [
    "input = \"Is  Disability  Insurance  Required  By  Law?\"\n",
    "emb = model.encode(input)"
   ]
  },
  {
   "cell_type": "code",
   "execution_count": 21,
   "id": "846f9ede-03f3-4687-833b-6c6fc688fc17",
   "metadata": {},
   "outputs": [
    {
     "name": "stdout",
     "output_type": "stream",
     "text": [
      "hit: (distance: 1.6388407558104445e-12, id: 0), \n",
      " question text is : Is  Disability  Insurance  Required  By  Law?, \n",
      " answer text is : Not generally. There are five states that require most all employers carry short term disability insurance on their employees. These states are: California, Hawaii, New Jersey, New York, and Rhode Island. Besides this mandatory short term disability law, there is no other legislative imperative for someone to purchase or be covered by disability insurance. \n",
      " \n",
      "hit: (distance: 1.5215604305267334, id: 235), \n",
      " question text is : How  Necessary  Is  Disability  Insurance?, \n",
      " answer text is : Disability insurance is paycheck insurance. How important is your paycheck? Very important! Disability insurance is an intricate part of defensive financial planning. Most working Americans have 90 days of case reserves for emergencies. So disability insurance can generate tax free benefits for time when you can't work because of sickness and/or injury. \n",
      " \n",
      "hit: (distance: 2.6829562187194824, id: 179), \n",
      " question text is : Does  Long  Term  Disability  Cover  Medical  Insurance?, \n",
      " answer text is : Long term disability and medical insurance are two completely different animals. Long term disability replaces a portion of your income during the time you are unable to work at your full time occupation due to a covered accident or illness. Claims payments are made directly to the insured. Medical insurance is designed to pay a portion of the medical bills derived from care you receive from doctors, hospitals, and other healthcare providers. Claims payments are made directly to the providers unless assigned elsewhere. \n",
      " \n",
      "search latency = 0.0056s\n"
     ]
    }
   ],
   "source": [
    "start_time = time.time()\n",
    "result = paraphrase_milvus.search(data=emb.reshape(1,-1), anns_field=\"embedding\", \n",
    "                                  param=search_params, limit=3, output_fields=[\"q_text\", \"a_text\"])\n",
    "\n",
    "end_time = time.time()\n",
    "\n",
    "for hits in result:\n",
    "    for hit in hits:\n",
    "        print(f\"hit: {hit}, \\n question text is : {hit.entity.get('q_text')}, \\n answer text is : {hit.entity.get('a_text')} \\n \")\n",
    "print(search_latency_fmt.format(end_time - start_time))"
   ]
  }
 ],
 "metadata": {
  "kernelspec": {
   "display_name": "Python 3 (ipykernel)",
   "language": "python",
   "name": "python3"
  },
  "language_info": {
   "codemirror_mode": {
    "name": "ipython",
    "version": 3
   },
   "file_extension": ".py",
   "mimetype": "text/x-python",
   "name": "python",
   "nbconvert_exporter": "python",
   "pygments_lexer": "ipython3",
   "version": "3.10.12"
  },
  "widgets": {
   "application/vnd.jupyter.widget-state+json": {
    "state": {},
    "version_major": 2,
    "version_minor": 0
   }
  }
 },
 "nbformat": 4,
 "nbformat_minor": 5
}
