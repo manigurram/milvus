{
 "cells": [
  {
   "cell_type": "code",
   "execution_count": 1,
   "id": "d81033ed-2373-4cd5-90a7-55f6ab8d9b99",
   "metadata": {},
   "outputs": [],
   "source": [
    "import numpy as np\n",
    "import pandas as pd\n",
    "from pymilvus import MilvusClient"
   ]
  },
  {
   "cell_type": "markdown",
   "id": "080a6a41-f7b6-47ea-b676-251264da7025",
   "metadata": {},
   "source": [
    "#### Data loading"
   ]
  },
  {
   "cell_type": "code",
   "execution_count": 2,
   "id": "d6eab7a0-8909-4fe9-86a7-a93c2d60c3ef",
   "metadata": {},
   "outputs": [
    {
     "data": {
      "text/html": [
       "<div>\n",
       "<style scoped>\n",
       "    .dataframe tbody tr th:only-of-type {\n",
       "        vertical-align: middle;\n",
       "    }\n",
       "\n",
       "    .dataframe tbody tr th {\n",
       "        vertical-align: top;\n",
       "    }\n",
       "\n",
       "    .dataframe thead th {\n",
       "        text-align: right;\n",
       "    }\n",
       "</style>\n",
       "<table border=\"1\" class=\"dataframe\">\n",
       "  <thead>\n",
       "    <tr style=\"text-align: right;\">\n",
       "      <th></th>\n",
       "      <th>id</th>\n",
       "      <th>question</th>\n",
       "      <th>answer</th>\n",
       "    </tr>\n",
       "  </thead>\n",
       "  <tbody>\n",
       "    <tr>\n",
       "      <th>0</th>\n",
       "      <td>0</td>\n",
       "      <td>Is  Disability  Insurance  Required  By  Law?</td>\n",
       "      <td>Not generally. There are five states that requ...</td>\n",
       "    </tr>\n",
       "    <tr>\n",
       "      <th>1</th>\n",
       "      <td>1</td>\n",
       "      <td>Can  Creditors  Take  Life  Insurance  After  ...</td>\n",
       "      <td>If the person who passed away was the one with...</td>\n",
       "    </tr>\n",
       "    <tr>\n",
       "      <th>2</th>\n",
       "      <td>2</td>\n",
       "      <td>Does  Travelers  Insurance  Have  Renters  Ins...</td>\n",
       "      <td>One of the insurance carriers I represent is T...</td>\n",
       "    </tr>\n",
       "  </tbody>\n",
       "</table>\n",
       "</div>"
      ],
      "text/plain": [
       "   id                                           question  \\\n",
       "0   0      Is  Disability  Insurance  Required  By  Law?   \n",
       "1   1  Can  Creditors  Take  Life  Insurance  After  ...   \n",
       "2   2  Does  Travelers  Insurance  Have  Renters  Ins...   \n",
       "\n",
       "                                              answer  \n",
       "0  Not generally. There are five states that requ...  \n",
       "1  If the person who passed away was the one with...  \n",
       "2  One of the insurance carriers I represent is T...  "
      ]
     },
     "execution_count": 2,
     "metadata": {},
     "output_type": "execute_result"
    }
   ],
   "source": [
    "data = pd.read_csv(\"./data/question_answer.csv\")\n",
    "data.head(3)"
   ]
  },
  {
   "cell_type": "code",
   "execution_count": 3,
   "id": "4e1a1928-dbf4-4f3c-ad59-5e425c383b11",
   "metadata": {},
   "outputs": [
    {
     "data": {
      "text/plain": [
       "(1000, 3)"
      ]
     },
     "execution_count": 3,
     "metadata": {},
     "output_type": "execute_result"
    }
   ],
   "source": [
    "data.shape"
   ]
  },
  {
   "cell_type": "code",
   "execution_count": 4,
   "id": "f4d6f7cc-8be9-4e00-8624-8fd1a8a6b37f",
   "metadata": {},
   "outputs": [
    {
     "name": "stderr",
     "output_type": "stream",
     "text": [
      "2024-06-05 12:40:43.458838: I tensorflow/tsl/cuda/cudart_stub.cc:28] Could not find cuda drivers on your machine, GPU will not be used.\n",
      "2024-06-05 12:40:43.509680: I tensorflow/core/platform/cpu_feature_guard.cc:182] This TensorFlow binary is optimized to use available CPU instructions in performance-critical operations.\n",
      "To enable the following instructions: AVX2 FMA, in other operations, rebuild TensorFlow with the appropriate compiler flags.\n",
      "2024-06-05 12:40:44.619342: W tensorflow/compiler/tf2tensorrt/utils/py_utils.cc:38] TF-TRT Warning: Could not find TensorRT\n"
     ]
    }
   ],
   "source": [
    "model_path = \"./models/paraphrase-multilingual-mpnet-base-v2\"\n",
    "\n",
    "from sentence_transformers import SentenceTransformer\n",
    "model = SentenceTransformer(model_path)"
   ]
  },
  {
   "cell_type": "code",
   "execution_count": 5,
   "id": "8c2b34f5-fd59-4edf-9102-64e54a4543d3",
   "metadata": {},
   "outputs": [
    {
     "data": {
      "text/plain": [
       "(1000, 768)"
      ]
     },
     "execution_count": 5,
     "metadata": {},
     "output_type": "execute_result"
    }
   ],
   "source": [
    "text = list(data[\"question\"])\n",
    "\n",
    "embeddings = model.encode(text)\n",
    "\n",
    "embeddings.shape"
   ]
  },
  {
   "cell_type": "code",
   "execution_count": 6,
   "id": "1b8901ce-3364-44df-a286-4edaa755244b",
   "metadata": {},
   "outputs": [],
   "source": [
    "data[\"vector\"] = list(embeddings)"
   ]
  },
  {
   "cell_type": "code",
   "execution_count": 7,
   "id": "5cfbd196-eb31-4457-8067-ee1526299265",
   "metadata": {},
   "outputs": [
    {
     "data": {
      "text/html": [
       "<div>\n",
       "<style scoped>\n",
       "    .dataframe tbody tr th:only-of-type {\n",
       "        vertical-align: middle;\n",
       "    }\n",
       "\n",
       "    .dataframe tbody tr th {\n",
       "        vertical-align: top;\n",
       "    }\n",
       "\n",
       "    .dataframe thead th {\n",
       "        text-align: right;\n",
       "    }\n",
       "</style>\n",
       "<table border=\"1\" class=\"dataframe\">\n",
       "  <thead>\n",
       "    <tr style=\"text-align: right;\">\n",
       "      <th></th>\n",
       "      <th>id</th>\n",
       "      <th>question</th>\n",
       "      <th>answer</th>\n",
       "      <th>vector</th>\n",
       "    </tr>\n",
       "  </thead>\n",
       "  <tbody>\n",
       "    <tr>\n",
       "      <th>0</th>\n",
       "      <td>0</td>\n",
       "      <td>Is  Disability  Insurance  Required  By  Law?</td>\n",
       "      <td>Not generally. There are five states that requ...</td>\n",
       "      <td>[-0.042642176, 0.2422998, -0.0092916805, -0.07...</td>\n",
       "    </tr>\n",
       "    <tr>\n",
       "      <th>1</th>\n",
       "      <td>1</td>\n",
       "      <td>Can  Creditors  Take  Life  Insurance  After  ...</td>\n",
       "      <td>If the person who passed away was the one with...</td>\n",
       "      <td>[0.011983045, 0.2737187, -0.0107803, -0.036528...</td>\n",
       "    </tr>\n",
       "    <tr>\n",
       "      <th>2</th>\n",
       "      <td>2</td>\n",
       "      <td>Does  Travelers  Insurance  Have  Renters  Ins...</td>\n",
       "      <td>One of the insurance carriers I represent is T...</td>\n",
       "      <td>[-0.054962646, 0.26135075, -0.0066415817, -0.0...</td>\n",
       "    </tr>\n",
       "  </tbody>\n",
       "</table>\n",
       "</div>"
      ],
      "text/plain": [
       "   id                                           question  \\\n",
       "0   0      Is  Disability  Insurance  Required  By  Law?   \n",
       "1   1  Can  Creditors  Take  Life  Insurance  After  ...   \n",
       "2   2  Does  Travelers  Insurance  Have  Renters  Ins...   \n",
       "\n",
       "                                              answer  \\\n",
       "0  Not generally. There are five states that requ...   \n",
       "1  If the person who passed away was the one with...   \n",
       "2  One of the insurance carriers I represent is T...   \n",
       "\n",
       "                                              vector  \n",
       "0  [-0.042642176, 0.2422998, -0.0092916805, -0.07...  \n",
       "1  [0.011983045, 0.2737187, -0.0107803, -0.036528...  \n",
       "2  [-0.054962646, 0.26135075, -0.0066415817, -0.0...  "
      ]
     },
     "execution_count": 7,
     "metadata": {},
     "output_type": "execute_result"
    }
   ],
   "source": [
    "data.head(3)"
   ]
  },
  {
   "cell_type": "markdown",
   "id": "7d221ec4-63a1-4017-a690-bcffef516770",
   "metadata": {},
   "source": [
    "#### Connect to Milvus Lite"
   ]
  },
  {
   "cell_type": "code",
   "execution_count": 8,
   "id": "1e5ae685-42d0-4c51-8af3-771dc28c74d9",
   "metadata": {},
   "outputs": [],
   "source": [
    "client = MilvusClient(\"./data/milvus_lite_question_answer.db\")"
   ]
  },
  {
   "cell_type": "markdown",
   "id": "256caff0-e5d1-4f2a-b4b0-2daa596a65f3",
   "metadata": {},
   "source": [
    "#### Create Collection"
   ]
  },
  {
   "cell_type": "code",
   "execution_count": 9,
   "id": "b3385fe7-4eac-4e7c-8419-f5f6cdb8e94c",
   "metadata": {},
   "outputs": [],
   "source": [
    "client.create_collection(collection_name=\"question_answer\",dimension=768)"
   ]
  },
  {
   "cell_type": "code",
   "execution_count": 10,
   "id": "2a0265d0-9c1f-43d7-b115-76934919d132",
   "metadata": {},
   "outputs": [
    {
     "data": {
      "text/plain": [
       "['question_answer']"
      ]
     },
     "execution_count": 10,
     "metadata": {},
     "output_type": "execute_result"
    }
   ],
   "source": [
    "client.list_collections()"
   ]
  },
  {
   "cell_type": "markdown",
   "id": "0a2ef1db-2c7c-4f93-b82c-2740864e3de2",
   "metadata": {},
   "source": [
    "#### Data insert"
   ]
  },
  {
   "cell_type": "code",
   "execution_count": 11,
   "id": "9b4bfbf5-849b-4b62-a33e-4266e3dcc43c",
   "metadata": {},
   "outputs": [],
   "source": [
    "dict_records = data.to_dict(orient='records')"
   ]
  },
  {
   "cell_type": "code",
   "execution_count": 13,
   "id": "c903af19-75ac-4d76-919d-764599d4dd9e",
   "metadata": {},
   "outputs": [],
   "source": [
    "res = client.insert(collection_name=\"question_answer\", data=dict_records)"
   ]
  },
  {
   "cell_type": "markdown",
   "id": "3616594f-6955-4f16-9a24-92597ef240ea",
   "metadata": {},
   "source": [
    "#### Search"
   ]
  },
  {
   "cell_type": "code",
   "execution_count": 14,
   "id": "b8fc9f10-54a2-4367-922a-6f923acb6365",
   "metadata": {},
   "outputs": [
    {
     "name": "stdout",
     "output_type": "stream",
     "text": [
      "test data : Is  Car  Insurance  Federal  Law?\n",
      "(768,) float32\n"
     ]
    }
   ],
   "source": [
    "test_question = np.array(data[\"question\"])[950]\n",
    "print(\"test data :\", test_question)\n",
    "\n",
    "test_emb = model.encode(test_question)\n",
    "print(test_emb.shape, test_emb.dtype)"
   ]
  },
  {
   "cell_type": "code",
   "execution_count": 15,
   "id": "8b1d981a-69c8-4a27-be62-d9cba70917a0",
   "metadata": {},
   "outputs": [],
   "source": [
    "op = client.search(collection_name=\"question_answer\",\n",
    "                   data=[test_emb],\n",
    "                   limit=5,\n",
    "                   output_fields=[\"question\", \"answer\"])"
   ]
  },
  {
   "cell_type": "code",
   "execution_count": 16,
   "id": "4f7936e2-a602-45a9-8750-d1e562079d9c",
   "metadata": {},
   "outputs": [
    {
     "data": {
      "text/plain": [
       "[{'id': 950,\n",
       "  'distance': 0.9999998211860657,\n",
       "  'entity': {'question': 'Is  Car  Insurance  Federal  Law?',\n",
       "   'answer': 'The are 3 basic tax deferred annuity crediting methods: interest rate crediting, indice crediting and separate accounts using equity and bond investments. The annuity company makes money in their portfolio spread between what earn and what they credit to a policy as well as mortality costs. They also charge fees that generate income for the company.'}},\n",
       " {'id': 132,\n",
       "  'distance': 0.8885902166366577,\n",
       "  'entity': {'question': 'Is  Auto  Insurance  A  Federal  Requirement?',\n",
       "   'answer': 'Auto Insurance is not a requirement mandated by Federal law, but instead is required by most if not all states as a condition of registering a car for use on public access roads and highways. Property and Casualty insurance, including car insurance is regulated by state authority as opposed to the Federal Government.'}},\n",
       " {'id': 364,\n",
       "  'distance': 0.8341759443283081,\n",
       "  'entity': {'question': 'What  Auto  Insurance  Is  Required  By  Law?',\n",
       "   'answer': 'If you live in a state that requires auto insurance typically the coverages that would be required are bodily injury, property damage, and uninsured motorist at minimum. Regulations are different from state to state. The amounts and types of coverage can vary greatly. Contact a local agent to know what the coverage requirements are for the state that you reside in.'}},\n",
       " {'id': 723,\n",
       "  'distance': 0.7823590636253357,\n",
       "  'entity': {'question': 'Is  An  Auto  Insurance  Settlement  Taxable?',\n",
       "   'answer': 'It can be a bit confusing, but Medigap plans are utilized for persons that are covered under traditional Medicare. You purchase a policy from an insurance company such as Blue Cross, Humana or UnitedHealthcare (although there are plenty of other insurers to choose from). Medicare Advantage is a private health plan that is offered as an alternative to the more-traditional Medicare coverage. Often an HMO or PPO, you may see additional benefits included. An independent broker and/or a reputable website is a great place to view options from multiple companies. You can often instantly compare plans and easily apply online.'}},\n",
       " {'id': 94,\n",
       "  'distance': 0.7680532932281494,\n",
       "  'entity': {'question': 'Who  Made  Car  Insurance  Mandatory?',\n",
       "   'answer': 'If car insurance is mandatory, there are two possible entities that make it so - either your State Department of Motor Vehicles or your auto loan or leasing company. Usually these days it is both. Most states require car insurance as part of their procedure for registering a car. In all cases if you have a loan, the lender will require you to carry both Comprehensive and Collision coverage in order to be sure that their interest is protected. If you are leasing your car, not only will Comp and Collision be required, but Liability coverage as well.'}}]"
      ]
     },
     "execution_count": 16,
     "metadata": {},
     "output_type": "execute_result"
    }
   ],
   "source": [
    "op[0]"
   ]
  },
  {
   "cell_type": "code",
   "execution_count": null,
   "id": "14908817-9ecc-4c3d-8217-23ac770e46c5",
   "metadata": {},
   "outputs": [],
   "source": []
  },
  {
   "cell_type": "code",
   "execution_count": null,
   "id": "b2f71614-6d9a-4229-8cc2-51a059cdc14c",
   "metadata": {},
   "outputs": [],
   "source": []
  }
 ],
 "metadata": {
  "kernelspec": {
   "display_name": "Python 3 (ipykernel)",
   "language": "python",
   "name": "python3"
  },
  "language_info": {
   "codemirror_mode": {
    "name": "ipython",
    "version": 3
   },
   "file_extension": ".py",
   "mimetype": "text/x-python",
   "name": "python",
   "nbconvert_exporter": "python",
   "pygments_lexer": "ipython3",
   "version": "3.8.10"
  }
 },
 "nbformat": 4,
 "nbformat_minor": 5
}
